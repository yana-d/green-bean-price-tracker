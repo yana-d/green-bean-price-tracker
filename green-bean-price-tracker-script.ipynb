{
 "cells": [
  {
   "cell_type": "markdown",
   "id": "8b20f7c2",
   "metadata": {},
   "source": [
    "# Script part 1"
   ]
  },
  {
   "cell_type": "code",
   "execution_count": 1,
   "id": "44e02368",
   "metadata": {},
   "outputs": [],
   "source": [
    "# Imports standart packages\n",
    "import pandas as pd \n",
    "\n",
    "import seaborn as sns\n",
    "import matplotlib.pyplot as plt\n",
    "\n",
    "import requests\n",
    "from bs4 import BeautifulSoup\n",
    "\n",
    "# E-mail notifictions packages\n",
    "import smtplib\n",
    "from email.mime.multipart import MIMEMultipart\n",
    "from email.mime.text import MIMEText\n",
    "\n",
    "# Custom imports\n",
    "import config as cfg \n",
    "\n",
    "# URL of our target page we gonna scrap\n",
    "url = \"https://offerlist.rehmcoffee.de\"\n",
    "\n",
    "# Creating session\n",
    "s = requests.Session()\n",
    "\n",
    "# Using Requests's method get on session object to get access to the page content\n",
    "login_form = s.get(url)\n",
    "\n",
    "# Creating soup object\n",
    "soup_login_form = BeautifulSoup(login_form.content,\"html5lib\")\n",
    "\n",
    "# Search for inputs that are required to be submitted to the login form to pass it\n",
    "list_input = soup_login_form.find_all(\"input\")\n",
    "\n",
    "token_nr1 = soup_login_form.find(\"input\", {\"name\":\"logintype\"})[\"value\"]\n",
    "token_nr2 = soup_login_form.find(\"input\", {\"name\":\"pid\"})[\"value\"]\n",
    "token_nr3 = soup_login_form.find(\"input\", {\"name\":\"redirect_url\"})[\"value\"]\n",
    "token_nr4 = soup_login_form.find(\"input\", {\"name\":\"tx_felogin_pi1[noredirect]\"})[\"value\"]\n",
    "\n",
    "# Fail config.py stores sensitive data: usernames and passwords in following line:\n",
    "# login_data = {'user': 'name@company-name.com', 'pass': 'password_received_from_trader'}\n",
    "\n",
    "# login_data = {\"user\":\"mymail@company-name.com\", \"pass\":\"your_password\", \"logintype\":token_nr1, \"pid\":token_nr2, \"redirect_url\":token_nr3, \"tx_felogin_pi1[noredirect]\":token_nr4}\n",
    "login_data = cfg.login_data\n",
    "login_data[\"logintype\"] = token_nr1\n",
    "login_data[\"pid\"] = token_nr2\n",
    "login_data[\"redirect_url\"] = token_nr3\n",
    "login_data[\"tx_felogin_pi1[noredirect]\"] = token_nr4\n",
    "\n",
    "# Creating post request\n",
    "s.post(url, login_data)\n",
    "\n",
    "offer_page = s.get(url)\n",
    "\n",
    "# Pass HTML into the BeautifulSoup constructor, then create a new BeautifulSoup object : soup_offer_page\n",
    "soup_offer_page = BeautifulSoup(offer_page.content,\"html5lib\")\n",
    "\n",
    "\n",
    "# Checking how many tables are on page\n",
    "tables = soup_offer_page.find_all('table')\n",
    "\n",
    "# Loop that search for word in tables and prints an index of a table \n",
    "for index,table in enumerate(tables):\n",
    "    if (\"almond\" in str(table)):\n",
    "        table_index = index\n",
    "        \n",
    "# The function read_html always returns a list of DataFrames so we must pick the one we want out of the list\n",
    "# We use [0] index as we already spicified proper table from tables above\n",
    "offer_list_rehm_df = pd.read_html(str(tables[table_index]), flavor='bs4')[0]\n",
    "\n",
    "# Below we will add date when we scrapped new update\n",
    "current_date = pd.to_datetime('today').normalize()\n",
    "\n",
    "offer_list_rehm_df['offer_date'] = current_date\n",
    "\n",
    "offer_list_rehm_df_copy = offer_list_rehm_df.copy(deep=True)\n",
    "\n",
    "# Create function to clean column values \n",
    "def clean_unit_col(x):\n",
    "    x = x.replace(\"kg\", \"\").replace(\" \", \"\")\n",
    "    return int(x)\n",
    "\n",
    "def clean_eur_col(y):\n",
    "    y = y.replace(\"€\", \"\").replace(\",\", \".\").replace(\" \", \"\")\n",
    "    return round(float(y),2)\n",
    "\n",
    "def clean_usd_col(z):\n",
    "    z = z.replace(\"$\", \"\").replace(\",\", \".\").replace(\" \", \"\")\n",
    "    return round(float(z),2)\n",
    "\n",
    "# Cleaning column values in scrapped data\n",
    "offer_list_rehm_df_copy['Unit'] = offer_list_rehm_df_copy['Unit'].apply(clean_unit_col)\n",
    "\n",
    "offer_list_rehm_df_copy['€ / KG'] = offer_list_rehm_df_copy['€ / KG'].apply(clean_eur_col)\n",
    "\n",
    "offer_list_rehm_df_copy['$ / KG'] = offer_list_rehm_df_copy['$ / KG'].apply(clean_usd_col)\n",
    "\n",
    "# Appending new scrapped data to existing .csv fail \n",
    "offer_list_rehm_df_copy.to_csv('scraped-data/rehm-offer-list-test.csv',mode='a',index=False,header=False)\n"
   ]
  },
  {
   "cell_type": "markdown",
   "id": "28a65e49",
   "metadata": {},
   "source": [
    "# Script Part 2"
   ]
  },
  {
   "cell_type": "markdown",
   "id": "b5022f2e",
   "metadata": {},
   "source": [
    "The green bean trader publishes updates to the offer list weekly. We plan to log in weekly and append the .csv fail with full list. "
   ]
  },
  {
   "cell_type": "code",
   "execution_count": null,
   "id": "d0940167",
   "metadata": {},
   "outputs": [],
   "source": [
    "# IMPORTANT: run only when new data is available from trader!\n",
    "offer_list_rehm.to_csv('scraped-data/rehm-offer-list.csv',mode='a',index=False,header=False)"
   ]
  },
  {
   "cell_type": "markdown",
   "id": "b949f42e",
   "metadata": {},
   "source": [
    "Checking whether new data is available from trader."
   ]
  },
  {
   "cell_type": "code",
   "execution_count": null,
   "id": "e2072421",
   "metadata": {},
   "outputs": [],
   "source": [
    "df_today = pd.read_csv('scraped-data/rehm-offer-list.csv')\n",
    "df_previous = pd.read_csv('scraped-data/rehm-offer-list-14.04.2021.csv')"
   ]
  },
  {
   "cell_type": "code",
   "execution_count": null,
   "id": "d51627d7",
   "metadata": {},
   "outputs": [],
   "source": [
    "df_previous.Bags == offer_list_rehm.Bags "
   ]
  },
  {
   "cell_type": "code",
   "execution_count": null,
   "id": "30b82e57",
   "metadata": {},
   "outputs": [],
   "source": [
    "df_previous.Bags.compare(offer_list_rehm.Bags)"
   ]
  },
  {
   "cell_type": "code",
   "execution_count": null,
   "id": "9f7ea0aa",
   "metadata": {},
   "outputs": [],
   "source": []
  },
  {
   "cell_type": "markdown",
   "id": "fe7a320a",
   "metadata": {},
   "source": [
    "## Compare dataframes"
   ]
  },
  {
   "cell_type": "code",
   "execution_count": null,
   "id": "25ee928c",
   "metadata": {
    "scrolled": true
   },
   "outputs": [],
   "source": [
    "df_last = pd.read_csv('scraped-data/rehm-offer-list.csv', index_col = False)\n",
    "#df_last = df_last.reset_index(drop=True)\n",
    "df_last"
   ]
  },
  {
   "cell_type": "code",
   "execution_count": null,
   "id": "00df4078",
   "metadata": {},
   "outputs": [],
   "source": [
    "df_twentyone = pd.read_csv('scraped-data/rehm-offer-list-21.04.2021.csv')"
   ]
  },
  {
   "cell_type": "code",
   "execution_count": null,
   "id": "1bc984d1",
   "metadata": {},
   "outputs": [],
   "source": [
    "df_twentyone"
   ]
  },
  {
   "cell_type": "code",
   "execution_count": null,
   "id": "f9778889",
   "metadata": {},
   "outputs": [],
   "source": [
    "df_twentyone.set_index(['Farm / Name'])"
   ]
  },
  {
   "cell_type": "code",
   "execution_count": null,
   "id": "30f53017",
   "metadata": {},
   "outputs": [],
   "source": [
    "df_twentyone.set_index(['Farm / Name']).sort_index(ascending=True).loc['Burka Estate AB']"
   ]
  },
  {
   "cell_type": "code",
   "execution_count": null,
   "id": "cb24c732",
   "metadata": {},
   "outputs": [],
   "source": [
    "df_last.compare(df_twentyone, keep_shape=True)"
   ]
  },
  {
   "cell_type": "markdown",
   "id": "582cf5f6",
   "metadata": {},
   "source": [
    "## Data Visualization\n"
   ]
  },
  {
   "cell_type": "code",
   "execution_count": null,
   "id": "0cb0db8b",
   "metadata": {},
   "outputs": [],
   "source": [
    "df_read = pd.read_csv('scraped-data/rehm-offer-list.csv')"
   ]
  },
  {
   "cell_type": "code",
   "execution_count": null,
   "id": "01e9e650",
   "metadata": {},
   "outputs": [],
   "source": [
    "df_likelast = df_read.loc[df_read['offer_date'] == current_date]"
   ]
  },
  {
   "cell_type": "code",
   "execution_count": null,
   "id": "3401bb9e",
   "metadata": {},
   "outputs": [],
   "source": [
    "df_likelast"
   ]
  },
  {
   "cell_type": "code",
   "execution_count": null,
   "id": "9ee22bc1",
   "metadata": {},
   "outputs": [],
   "source": [
    "df_last.describe()"
   ]
  },
  {
   "cell_type": "markdown",
   "id": "140d40ce",
   "metadata": {},
   "source": [
    "For the \"Bags\" provide a boxplot"
   ]
  },
  {
   "cell_type": "code",
   "execution_count": null,
   "id": "3ba2ce2d",
   "metadata": {
    "scrolled": false
   },
   "outputs": [],
   "source": [
    "ax = sns.boxplot(x='Bags', data = df_last)"
   ]
  },
  {
   "cell_type": "markdown",
   "id": "1c52dd1b",
   "metadata": {},
   "source": [
    "Create a histogram for the \"Bags\" variable"
   ]
  },
  {
   "cell_type": "code",
   "execution_count": null,
   "id": "30e64cd3",
   "metadata": {
    "scrolled": false
   },
   "outputs": [],
   "source": [
    "ax = sns.displot(df_last['Bags'], kde = True)"
   ]
  },
  {
   "cell_type": "markdown",
   "id": "2d0b44f6",
   "metadata": {},
   "source": [
    "For the \"€ / KG\" provide a boxplot"
   ]
  },
  {
   "cell_type": "code",
   "execution_count": null,
   "id": "74d18022",
   "metadata": {
    "scrolled": true
   },
   "outputs": [],
   "source": [
    "ax = sns.boxplot(x='€ / KG', data = df_last)"
   ]
  },
  {
   "cell_type": "markdown",
   "id": "ce4bbd7f",
   "metadata": {},
   "source": [
    "Provide a boxplot for the \"€ / KG\" variable vs the \"Bags\" variable. (Discretize the \"€ / KG\" variable into three groups of 4 € / KG and less, between 4 and 8 € / KG and 8 € / KG and higher)"
   ]
  },
  {
   "cell_type": "code",
   "execution_count": null,
   "id": "fa559b0b",
   "metadata": {
    "scrolled": true
   },
   "outputs": [],
   "source": [
    "df_last.loc[(df_last['€ / KG'] <= 4), 'price_group'] = '4 EUR and less'\n",
    "df_last.loc[(df_last['€ / KG'] > 4)&(df_last['€ / KG'] < 8), 'price_group'] = 'between 4 and 8 EUR'\n",
    "df_last.loc[(df_last['€ / KG'] >= 8), 'price_group'] = '8 EUR and up'\n",
    "\n",
    "ax = sns.boxplot(x=\"price_group\", y=\"Bags\", data=df_last)"
   ]
  },
  {
   "cell_type": "code",
   "execution_count": null,
   "id": "0236ae9c",
   "metadata": {},
   "outputs": [],
   "source": [
    "sns.displot(x=\"total_KG_per_coffee\",hue=\"price_group\",multiple=\"stack\",data=df_last)"
   ]
  },
  {
   "cell_type": "code",
   "execution_count": null,
   "id": "cceff14b",
   "metadata": {},
   "outputs": [],
   "source": [
    "sns.displot(x=\"total_KG_per_coffee\",hue=\"Origin\", kind='kde',data=df_last)"
   ]
  },
  {
   "cell_type": "markdown",
   "id": "ea32c9a7",
   "metadata": {},
   "source": [
    "Provide a scatter plot to show the relationship between \"€ / KG\" and the \"Bags\" per coffee. What is up with the relationship?"
   ]
  },
  {
   "cell_type": "code",
   "execution_count": null,
   "id": "05636458",
   "metadata": {
    "scrolled": true
   },
   "outputs": [],
   "source": [
    "ax = sns.scatterplot(x='€ / KG', y='Bags',  data=df_last)"
   ]
  },
  {
   "cell_type": "code",
   "execution_count": null,
   "id": "a34d502f",
   "metadata": {},
   "outputs": [],
   "source": [
    "df_last['total_KG_per_coffee'] = df_last['Bags'] * df_last['Unit']"
   ]
  },
  {
   "cell_type": "code",
   "execution_count": null,
   "id": "fc484d6d",
   "metadata": {},
   "outputs": [],
   "source": [
    "df_last['total_EUR_per_coffee'] = df_last['total_KG_per_coffee'] * df_last['€ / KG']"
   ]
  },
  {
   "cell_type": "code",
   "execution_count": null,
   "id": "b0c2876c",
   "metadata": {},
   "outputs": [],
   "source": [
    "df_last.head(5)"
   ]
  },
  {
   "cell_type": "code",
   "execution_count": null,
   "id": "3de8d128",
   "metadata": {
    "scrolled": true
   },
   "outputs": [],
   "source": [
    "sns.histplot(df_last[df_last['Origin'] == 'BRAZIL']['total_KG_per_coffee'], color='green', kde=False) \n",
    "sns.histplot(df_last[df_last['Origin'] == 'PANAMA']['total_KG_per_coffee'], color=\"blue\", kde=False) \n",
    "plt.show()"
   ]
  },
  {
   "cell_type": "code",
   "execution_count": null,
   "id": "8a2228e5",
   "metadata": {},
   "outputs": [],
   "source": [
    "country_summary = df_last.groupby('Origin')['total_EUR_per_coffee'].sum()"
   ]
  },
  {
   "cell_type": "code",
   "execution_count": null,
   "id": "3898e1f8",
   "metadata": {
    "scrolled": true
   },
   "outputs": [],
   "source": [
    "type(country_summary)"
   ]
  },
  {
   "cell_type": "code",
   "execution_count": null,
   "id": "cd4f4199",
   "metadata": {},
   "outputs": [],
   "source": [
    "country_summary"
   ]
  },
  {
   "cell_type": "code",
   "execution_count": null,
   "id": "699fe6fe",
   "metadata": {},
   "outputs": [],
   "source": [
    "country_summary.sum()"
   ]
  },
  {
   "cell_type": "markdown",
   "id": "2dd72f40",
   "metadata": {},
   "source": [
    "## E-mail notifications"
   ]
  },
  {
   "cell_type": "code",
   "execution_count": null,
   "id": "096a1ff5",
   "metadata": {},
   "outputs": [],
   "source": [
    "#email_body = '<html><head></head><body>'\n",
    "##mail_body = '<style type=\"text/css\"></style>'\n",
    "#mail_body += f'<h2>text {x}</h2>'\n",
    "#email_body += f'<h1><b>text</b>:  {y}</h1>'\n",
    "#email_body += f'<h1><b>text</b>:  {z}</h1>'\n",
    "#email_body += f'<h1><b>text</b>:  {w}</h1>'\n",
    "#email_body += '<br>text'\n",
    "\n",
    "email_body = \"<html><body>Hey folks! That's green-bean-price-tracker bot here. I've prepared some fresh tasty updates to coffee offers by Rehm from: \"\n",
    "\n",
    "email_body += str(current_date)\n",
    "\n",
    "email_body += '<br>actual info will be inserted here'\n",
    "\n",
    "email_body += '<br>Yours green-bean-price-tracker bot</body></html>'"
   ]
  },
  {
   "cell_type": "code",
   "execution_count": null,
   "id": "ee86e18c",
   "metadata": {},
   "outputs": [],
   "source": [
    "# Email Account\n",
    "email_sender_account = cfg.email_sender_account # email_sender_account = \"your.registered.name@gmail.com\"\n",
    "email_sender_username = cfg.email_sender_username # email_sender_username = \"your.registered.name\"\n",
    "email_sender_password = cfg.email_sender_password # email_sender_password = \"your_gmail_password\"\n",
    "email_smtp_server = \"smtp.gmail.com\" # SMTP, eg smtp.gmail.com for gmail\n",
    "email_smtp_port = 587 # SMTP Porf, eg 587 for gmail\n",
    "\n",
    "# Email Content\n",
    "email_recepients = [\"yana.dzhulay@dbf-regensburg.de\",\"mail@dbf-regensburg.de\"]\n",
    "email_subject = \"test notification - weekly updates - green-bean-price-tracker \"\n",
    "#email_body = \"here is the body\""
   ]
  },
  {
   "cell_type": "code",
   "execution_count": null,
   "id": "4a3b3b83",
   "metadata": {},
   "outputs": [],
   "source": [
    "# login to email server\n",
    "server = smtplib.SMTP(email_smtp_server,email_smtp_port)\n",
    "server.starttls()\n",
    "server.login(email_sender_username, email_sender_password)\n",
    "\n",
    "# For loop, sending emails to all email recipients\n",
    "for recipient in email_recepients:\n",
    "    print(\"Sending email to: \" , recipient)\n",
    "    message = MIMEMultipart('alternative')\n",
    "    message['From'] = email_sender_account\n",
    "    message['To'] = recipient\n",
    "    message['Subject'] = email_subject\n",
    "    message.attach(MIMEText(email_body, 'html'))\n",
    "    text = message.as_string()\n",
    "    server.sendmail(email_sender_account,recipient,text)\n",
    "    \n",
    "# All emails sent, log out.\n",
    "server.quit()"
   ]
  },
  {
   "cell_type": "code",
   "execution_count": null,
   "id": "a2c526c8",
   "metadata": {},
   "outputs": [],
   "source": []
  }
 ],
 "metadata": {
  "kernelspec": {
   "display_name": "Python 3",
   "language": "python",
   "name": "python3"
  },
  "language_info": {
   "codemirror_mode": {
    "name": "ipython",
    "version": 3
   },
   "file_extension": ".py",
   "mimetype": "text/x-python",
   "name": "python",
   "nbconvert_exporter": "python",
   "pygments_lexer": "ipython3",
   "version": "3.9.2"
  },
  "toc": {
   "base_numbering": 1,
   "nav_menu": {},
   "number_sections": true,
   "sideBar": true,
   "skip_h1_title": false,
   "title_cell": "Table of Contents",
   "title_sidebar": "Contents",
   "toc_cell": false,
   "toc_position": {},
   "toc_section_display": true,
   "toc_window_display": false
  }
 },
 "nbformat": 4,
 "nbformat_minor": 5
}
